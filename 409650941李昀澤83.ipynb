{
  "nbformat": 4,
  "nbformat_minor": 0,
  "metadata": {
    "colab": {
      "name": "409650941李昀澤83.ipynb",
      "provenance": [],
      "authorship_tag": "ABX9TyO93Z+TPs1yAP7y8/vT4I+Z",
      "include_colab_link": true
    },
    "kernelspec": {
      "name": "python3",
      "display_name": "Python 3"
    },
    "language_info": {
      "name": "python"
    }
  },
  "cells": [
    {
      "cell_type": "markdown",
      "metadata": {
        "id": "view-in-github",
        "colab_type": "text"
      },
      "source": [
        "<a href=\"https://colab.research.google.com/github/409650941/409650941-83/blob/main/409650941%E6%9D%8E%E6%98%80%E6%BE%A483.ipynb\" target=\"_parent\"><img src=\"https://colab.research.google.com/assets/colab-badge.svg\" alt=\"Open In Colab\"/></a>"
      ]
    },
    {
      "cell_type": "code",
      "execution_count": 2,
      "metadata": {
        "colab": {
          "base_uri": "https://localhost:8080/"
        },
        "id": "YjbqQ36IEjlr",
        "outputId": "029e27f3-4e13-4dbb-c0b2-756ed821cec8"
      },
      "outputs": [
        {
          "output_type": "stream",
          "name": "stdout",
          "text": [
            "計算消費者金額\n",
            "請輸入金額100\n",
            "可購買手機\n"
          ]
        }
      ],
      "source": [
        "print(\"計算消費者金額\")\n",
        "money=input(\"請輸入金額\")\n",
        "mn=int(money)\n",
        "if mn<100:\n",
        "    print(\"金額不足\")\n",
        "elif 100<=mn<200:\n",
        "    print(\"可購買手機\")\n",
        "elif 200<=mn<300:\n",
        "    print(\"可購買平板\")\n",
        "elif 300<=mn<400:\n",
        "    print(\"可購買電腦\")\n"
      ]
    },
    {
      "cell_type": "code",
      "source": [
        ""
      ],
      "metadata": {
        "id": "KarBaZDCHlhC"
      },
      "execution_count": null,
      "outputs": []
    }
  ]
}